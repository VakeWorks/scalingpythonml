{
 "cells": [
  {
   "cell_type": "code",
   "execution_count": null,
   "id": "5eff240d-ef45-4f33-8944-07d239531ece",
   "metadata": {},
   "outputs": [],
   "source": [
    "import ray\n",
    "from typing import *"
   ]
  },
  {
   "cell_type": "code",
   "execution_count": null,
   "id": "1cb05c3b-8ddf-4ef5-82df-49e628aa16e0",
   "metadata": {},
   "outputs": [],
   "source": [
    "ray.init(num_cpus=20)"
   ]
  },
  {
   "cell_type": "code",
   "execution_count": null,
   "id": "f2a4dbe2-f8fb-43f2-bdd5-869b486105bd",
   "metadata": {},
   "outputs": [],
   "source": [
    "import ray.data"
   ]
  },
  {
   "cell_type": "code",
   "execution_count": null,
   "id": "67001e59-d5f5-4bcc-8155-d5684267e731",
   "metadata": {},
   "outputs": [],
   "source": [
    "!wget http://gender-pay-gap.service.gov.uk/viewing/download-data/2021"
   ]
  },
  {
   "cell_type": "code",
   "execution_count": null,
   "id": "40cf1746-2b22-48bf-a27b-0b4fc0b842f5",
   "metadata": {},
   "outputs": [],
   "source": [
    "!pip install fsspec aiohttp"
   ]
  },
  {
   "cell_type": "code",
   "execution_count": null,
   "id": "c84d1b97-af26-4bd5-976d-22061ef0e251",
   "metadata": {},
   "outputs": [],
   "source": [
    "#tag::load_csv_local_fs[]\n",
    "ds = ray.data.read_csv(\"2021\")\n",
    "#end::looad_csv_local_fs[]"
   ]
  },
  {
   "cell_type": "code",
   "execution_count": null,
   "id": "0e3bb0d7-b6f8-47dc-bb5c-3a2e7a4a40d7",
   "metadata": {},
   "outputs": [],
   "source": [
    "import fsspec"
   ]
  },
  {
   "cell_type": "code",
   "execution_count": null,
   "id": "0f5cf6cf-1d7e-41fe-b4f6-ded37ac23e9e",
   "metadata": {},
   "outputs": [],
   "source": [
    "from fsspec.registry import known_implementations"
   ]
  },
  {
   "cell_type": "code",
   "execution_count": null,
   "id": "a0c0d712-5df0-42e1-9db2-273197431ec9",
   "metadata": {},
   "outputs": [],
   "source": [
    "fsspec.filesystem('http')"
   ]
  },
  {
   "cell_type": "code",
   "execution_count": null,
   "id": "7c227450-589a-4e10-846a-f4dd6e13c42b",
   "metadata": {},
   "outputs": [],
   "source": [
    "known_implementations"
   ]
  },
  {
   "cell_type": "code",
   "execution_count": null,
   "id": "c96def58-7be7-4e60-8985-277707fd77ba",
   "metadata": {},
   "outputs": [],
   "source": [
    "try:\n",
    "    fsspec.filesystem('gcs')\n",
    "except Exception as e:\n",
    "    print(e)"
   ]
  },
  {
   "cell_type": "code",
   "execution_count": null,
   "id": "eb722d43-d462-482d-8ef3-35d27a9d572b",
   "metadata": {},
   "outputs": [],
   "source": [
    "#tag::load_from_https[]\n",
    "ds = ray.data.read_csv(\n",
    "    \"https://https://gender-pay-gap.service.gov.uk/viewing/download-data/2021\",\n",
    "    filesystem=fsspec.filesystem('https'))\n",
    "#end::load_from_https[]"
   ]
  },
  {
   "cell_type": "code",
   "execution_count": null,
   "id": "35784896-946a-4206-831f-63a5de95aeb9",
   "metadata": {},
   "outputs": [],
   "source": []
  }
 ],
 "metadata": {
  "kernelspec": {
   "display_name": "Python 3 (ipykernel)",
   "language": "python",
   "name": "python3"
  },
  "language_info": {
   "codemirror_mode": {
    "name": "ipython",
    "version": 3
   },
   "file_extension": ".py",
   "mimetype": "text/x-python",
   "name": "python",
   "nbconvert_exporter": "python",
   "pygments_lexer": "ipython3",
   "version": "3.8.12"
  }
 },
 "nbformat": 4,
 "nbformat_minor": 5
}
