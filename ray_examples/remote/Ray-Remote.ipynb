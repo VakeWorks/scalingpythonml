{
 "cells": [
  {
   "cell_type": "code",
   "execution_count": null,
   "id": "cfb84e0c",
   "metadata": {},
   "outputs": [],
   "source": [
    "import ray\n",
    "ray.init(num_cpus=20) # In theory auto sensed, in practice... eh"
   ]
  },
  {
   "cell_type": "code",
   "execution_count": null,
   "id": "841b6668",
   "metadata": {},
   "outputs": [],
   "source": [
    "import sys\n",
    "import time\n",
    "import timeit\n",
    "import threading"
   ]
  },
  {
   "cell_type": "code",
   "execution_count": null,
   "id": "0d985158",
   "metadata": {},
   "outputs": [],
   "source": [
    "\n",
    "#tag::variable_sleep_task[]\n",
    "@ray.remote\n",
    "def remote_task(x):\n",
    "    time.sleep(x)\n",
    "    return x\n",
    "#end::variable_sleep_task[]\n",
    "\n",
    "things = list(range(10))\n",
    "things.sort(reverse=True)"
   ]
  },
  {
   "cell_type": "code",
   "execution_count": null,
   "id": "cc132927",
   "metadata": {},
   "outputs": [],
   "source": [
    "#tag::get_only[]\n",
    "# Process in order\n",
    "def in_order():\n",
    "    # Make the futures\n",
    "    futures = list(map(lambda x: remote_task.remote(x), things))\n",
    "    values = ray.get(futures)\n",
    "    for v in values:\n",
    "        print(f\" Completed {v}\")\n",
    "        time.sleep(1) # Business logic goes here\n",
    "#tag::get_only[]"
   ]
  },
  {
   "cell_type": "code",
   "execution_count": null,
   "id": "0993d5ba",
   "metadata": {},
   "outputs": [],
   "source": [
    "# Currently ray.wait will not return more than num_returns objects as ready\n",
    "# even if there are. This might change so even when fetching an object at a time\n",
    "# iterate over the result.\n",
    "#tag::as_available[]\n",
    "# Process as results become available\n",
    "def as_available():\n",
    "    # Make the futures\n",
    "    futures = list(map(lambda x: remote_task.remote(x), things))\n",
    "    # While we still have pending futures\n",
    "    while len(futures) > 0:\n",
    "        ready_futures, rest_futures = ray.wait(futures)\n",
    "        print(f\"Ready {len(ready_futures)} rest {len(rest_futures)}\")\n",
    "        for id in ready_futures:\n",
    "            print(f'completed value {id}, result {ray.get(id)}')\n",
    "            time.sleep(1) # Business logic goes here\n",
    "        # We just need to wait on the ones which are not yet available\n",
    "        futures = rest_futures\n",
    "#end::as_available[]"
   ]
  },
  {
   "cell_type": "code",
   "execution_count": null,
   "id": "07e64f8a",
   "metadata": {},
   "outputs": [],
   "source": [
    "timeit.timeit(lambda: as_available(), number=1)"
   ]
  },
  {
   "cell_type": "code",
   "execution_count": null,
   "id": "5e774d86",
   "metadata": {},
   "outputs": [],
   "source": [
    "timeit.timeit(lambda: in_order(), number=1)"
   ]
  },
  {
   "cell_type": "code",
   "execution_count": null,
   "id": "66ab55d3",
   "metadata": {},
   "outputs": [],
   "source": [
    "#tag::handle_bad_futures[]\n",
    "futures = list(map(lambda x: remote_task.remote(x), [1, threading.TIMEOUT_MAX]))\n",
    "# While we still have pending futures\n",
    "while len(futures) > 0:\n",
    "    # In practice 10 seconds is too short for most cases.\n",
    "    ready_futures, rest_futures = ray.wait(futures, timeout=10, num_returns=1)\n",
    "    # If we get back anything less than num_returns \n",
    "    if len(ready_futures) < 1:\n",
    "        print(f\"Timed out on {rest_futures}\")\n",
    "        # You don't _have to cancel_ but if you've your task is using a lot of resources\n",
    "        ray.cancel(*rest_futures)\n",
    "        # You should break since you exceeded your timeout\n",
    "        break\n",
    "    for id in ready_futures:\n",
    "        print(f'completed value {id}, result {ray.get(id)}')\n",
    "        futures = rest_futures\n",
    "#end::handle_bad_futures[]"
   ]
  },
  {
   "cell_type": "code",
   "execution_count": null,
   "id": "ccec6230",
   "metadata": {},
   "outputs": [],
   "source": []
  }
 ],
 "metadata": {
  "kernelspec": {
   "display_name": "Python 3 (ipykernel)",
   "language": "python",
   "name": "python3"
  },
  "language_info": {
   "codemirror_mode": {
    "name": "ipython",
    "version": 3
   },
   "file_extension": ".py",
   "mimetype": "text/x-python",
   "name": "python",
   "nbconvert_exporter": "python",
   "pygments_lexer": "ipython3",
   "version": "3.7.10"
  }
 },
 "nbformat": 4,
 "nbformat_minor": 5
}
