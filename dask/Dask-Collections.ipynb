{
 "cells": [
  {
   "cell_type": "code",
   "execution_count": null,
   "id": "ae7610fd-b6c4-4984-b236-559852e53ef9",
   "metadata": {},
   "outputs": [],
   "source": [
    "from typing import List\n",
    "import dask\n",
    "import numpy as np\n",
    "import dask.array as da\n",
    "import dask.bag\n",
    "from dask.distributed import Client"
   ]
  },
  {
   "cell_type": "code",
   "execution_count": null,
   "id": "716d6808-2ecd-43de-8815-9ce4ac507d8f",
   "metadata": {},
   "outputs": [],
   "source": [
    "import fsspec"
   ]
  },
  {
   "cell_type": "code",
   "execution_count": null,
   "id": "8458fe54-c9b7-4df5-8199-74104571c2ee",
   "metadata": {},
   "outputs": [],
   "source": [
    "client = Client()\n",
    "client"
   ]
  },
  {
   "cell_type": "code",
   "execution_count": null,
   "id": "b5b383b5-d3a6-40a9-b2b2-ee423315f7d1",
   "metadata": {},
   "outputs": [],
   "source": [
    "def parallel_recursive_list(path: str, fs = None) -> List[str]:\n",
    "    print(f\"Listing {path}\")\n",
    "    if fs is None:\n",
    "        fs = fsspec.core.url_to_fs(path)[0]\n",
    "    info = []\n",
    "    try:\n",
    "        infos = fs.ls(path, detail=True)\n",
    "    except PermissionError:\n",
    "        return []\n",
    "    files = []\n",
    "    dirs = []\n",
    "    for i in infos:\n",
    "        if i[\"type\"] == \"directory\":\n",
    "            # You can speed this up by using futures, covered in \"Advanced Scheduling\"\n",
    "            dir_list = dask.delayed(parallel_recursive_list)(i[\"name\"], fs)\n",
    "            dirs += dir_list\n",
    "        else:\n",
    "            files.append(i[\"name\"])\n",
    "    for sub_files in dask.compute(dirs):\n",
    "        files.extend(sub_files)\n",
    "    return files\n",
    "    "
   ]
  },
  {
   "cell_type": "code",
   "execution_count": null,
   "id": "9d17b8b6-8018-4b2f-9e8c-8c0c447542e5",
   "metadata": {},
   "outputs": [],
   "source": [
    "files = parallel_recursive_list(\"file:///tmp\")"
   ]
  },
  {
   "cell_type": "code",
   "execution_count": null,
   "id": "b05e2b75-b71e-417b-af8a-095a923c24d1",
   "metadata": {},
   "outputs": [],
   "source": [
    "files"
   ]
  },
  {
   "cell_type": "code",
   "execution_count": null,
   "id": "fe741f5a-8106-4111-a06e-101d00c64e67",
   "metadata": {},
   "outputs": [],
   "source": [
    "multiprocessing.cpu_count()"
   ]
  },
  {
   "cell_type": "code",
   "execution_count": null,
   "id": "e09bbb42-5dd2-404d-8f29-7c5a307ccf45",
   "metadata": {},
   "outputs": [],
   "source": []
  }
 ],
 "metadata": {
  "kernelspec": {
   "display_name": "Python 3 (ipykernel)",
   "language": "python",
   "name": "python3"
  },
  "language_info": {
   "codemirror_mode": {
    "name": "ipython",
    "version": 3
   },
   "file_extension": ".py",
   "mimetype": "text/x-python",
   "name": "python",
   "nbconvert_exporter": "python",
   "pygments_lexer": "ipython3",
   "version": "3.8.5"
  }
 },
 "nbformat": 4,
 "nbformat_minor": 5
}
