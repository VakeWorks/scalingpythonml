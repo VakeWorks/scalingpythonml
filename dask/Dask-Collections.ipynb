{
 "cells": [
  {
   "cell_type": "code",
   "execution_count": 8,
   "id": "ae7610fd-b6c4-4984-b236-559852e53ef9",
   "metadata": {},
   "outputs": [],
   "source": [
    "from typing import List\n",
    "import dask\n",
    "import numpy as np\n",
    "import dask.array as da\n",
    "import dask.bag"
   ]
  },
  {
   "cell_type": "code",
   "execution_count": 9,
   "id": "716d6808-2ecd-43de-8815-9ce4ac507d8f",
   "metadata": {},
   "outputs": [],
   "source": [
    "import fsspec"
   ]
  },
  {
   "cell_type": "code",
   "execution_count": 10,
   "id": "b5b383b5-d3a6-40a9-b2b2-ee423315f7d1",
   "metadata": {},
   "outputs": [],
   "source": [
    "def parallel_recursive_list(path: str) -> List[str]:\n",
    "    infos = fsspec.ls(path, detail=True)\n",
    "    files = []\n",
    "    dirs = []\n",
    "    for i in infos:\n",
    "        if i[\"type\"] == \"directory\":\n",
    "            # You can speed this up by using futures, covered in \"Advanced Scheduling\"\n",
    "            dir_list = dask.delayed(parallel_recursive_list)(i[\"name\"])\n",
    "            dirs += dir_list\n",
    "        else:\n",
    "            files += i[\"name\"]\n",
    "    for sub_files in dask.compute(dir_list):\n",
    "        files.append(sub_files)\n",
    "    return files\n",
    "    "
   ]
  },
  {
   "cell_type": "code",
   "execution_count": 13,
   "id": "9d17b8b6-8018-4b2f-9e8c-8c0c447542e5",
   "metadata": {},
   "outputs": [
    {
     "ename": "AttributeError",
     "evalue": "module 'fsspec' has no attribute 'ls'",
     "output_type": "error",
     "traceback": [
      "\u001b[0;31m---------------------------------------------------------------------------\u001b[0m",
      "\u001b[0;31mAttributeError\u001b[0m                            Traceback (most recent call last)",
      "Input \u001b[0;32mIn [13]\u001b[0m, in \u001b[0;36m<cell line: 1>\u001b[0;34m()\u001b[0m\n\u001b[0;32m----> 1\u001b[0m \u001b[43mparallel_recursive_list\u001b[49m\u001b[43m(\u001b[49m\u001b[38;5;124;43m\"\u001b[39;49m\u001b[38;5;124;43mfile:///home/holden\u001b[39;49m\u001b[38;5;124;43m\"\u001b[39;49m\u001b[43m)\u001b[49m\n",
      "Input \u001b[0;32mIn [10]\u001b[0m, in \u001b[0;36mparallel_recursive_list\u001b[0;34m(path)\u001b[0m\n\u001b[1;32m      1\u001b[0m \u001b[38;5;28;01mdef\u001b[39;00m \u001b[38;5;21mparallel_recursive_list\u001b[39m(path: \u001b[38;5;28mstr\u001b[39m) \u001b[38;5;241m-\u001b[39m\u001b[38;5;241m>\u001b[39m List[\u001b[38;5;28mstr\u001b[39m]:\n\u001b[0;32m----> 2\u001b[0m     infos \u001b[38;5;241m=\u001b[39m \u001b[43mfsspec\u001b[49m\u001b[38;5;241;43m.\u001b[39;49m\u001b[43mls\u001b[49m(path, detail\u001b[38;5;241m=\u001b[39m\u001b[38;5;28;01mTrue\u001b[39;00m)\n\u001b[1;32m      3\u001b[0m     files \u001b[38;5;241m=\u001b[39m []\n\u001b[1;32m      4\u001b[0m     dirs \u001b[38;5;241m=\u001b[39m []\n",
      "\u001b[0;31mAttributeError\u001b[0m: module 'fsspec' has no attribute 'ls'"
     ]
    }
   ],
   "source": [
    "parallel_recursive_list(\"file:///home/holden\")"
   ]
  },
  {
   "cell_type": "code",
   "execution_count": null,
   "id": "b05e2b75-b71e-417b-af8a-095a923c24d1",
   "metadata": {},
   "outputs": [],
   "source": []
  }
 ],
 "metadata": {
  "kernelspec": {
   "display_name": "Python 3 (ipykernel)",
   "language": "python",
   "name": "python3"
  },
  "language_info": {
   "codemirror_mode": {
    "name": "ipython",
    "version": 3
   },
   "file_extension": ".py",
   "mimetype": "text/x-python",
   "name": "python",
   "nbconvert_exporter": "python",
   "pygments_lexer": "ipython3",
   "version": "3.8.6"
  }
 },
 "nbformat": 4,
 "nbformat_minor": 5
}
