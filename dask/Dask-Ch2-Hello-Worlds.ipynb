{
 "cells": [
  {
   "cell_type": "code",
   "execution_count": 1,
   "id": "76c72491",
   "metadata": {},
   "outputs": [
    {
     "name": "stderr",
     "output_type": "stream",
     "text": [
      "/opt/conda/lib/python3.8/site-packages/dask/config.py:693: UserWarning: Configuration key \"shuffle\" has been deprecated. Please use \"dataframe.shuffle.algorithm\" instead\n",
      "  warnings.warn(\n",
      "2023-04-19 14:47:16,819 - distributed.diskutils - INFO - Found stale lock file and directory '/tmp/dask-worker-space/worker-cb_8tg2i', purging\n",
      "2023-04-19 14:47:16,820 - distributed.diskutils - INFO - Found stale lock file and directory '/tmp/dask-worker-space/worker-orix1k5q', purging\n",
      "2023-04-19 14:47:16,820 - distributed.diskutils - INFO - Found stale lock file and directory '/tmp/dask-worker-space/worker-404t7xqj', purging\n",
      "2023-04-19 14:47:16,820 - distributed.diskutils - INFO - Found stale lock file and directory '/tmp/dask-worker-space/worker-2s1_nfv7', purging\n"
     ]
    }
   ],
   "source": [
    "#tag::make_dask_client[]\n",
    "import dask\n",
    "from dask.distributed import Client\n",
    "client = Client() # Here we could specify a cluster, defaults to local mode\n",
    "#end::make_dask_client[]"
   ]
  },
  {
   "cell_type": "code",
   "execution_count": 2,
   "id": "0805ce26",
   "metadata": {},
   "outputs": [
    {
     "ename": "AttributeError",
     "evalue": "'HighLevelGraph' object has no attribute '__dask_distributed_pack__'",
     "output_type": "error",
     "traceback": [
      "\u001b[0;31m---------------------------------------------------------------------------\u001b[0m",
      "\u001b[0;31mAttributeError\u001b[0m                            Traceback (most recent call last)",
      "Cell \u001b[0;32mIn[2], line 15\u001b[0m\n\u001b[1;32m     12\u001b[0m slowish_result \u001b[38;5;241m=\u001b[39m \u001b[38;5;28mmap\u001b[39m(dask\u001b[38;5;241m.\u001b[39mdelayed(slow_task), things)\n\u001b[1;32m     14\u001b[0m slow_time \u001b[38;5;241m=\u001b[39m timeit\u001b[38;5;241m.\u001b[39mtimeit(\u001b[38;5;28;01mlambda\u001b[39;00m: \u001b[38;5;28mlist\u001b[39m(very_slow_result), number\u001b[38;5;241m=\u001b[39m\u001b[38;5;241m1\u001b[39m)\n\u001b[0;32m---> 15\u001b[0m fast_time \u001b[38;5;241m=\u001b[39m \u001b[43mtimeit\u001b[49m\u001b[38;5;241;43m.\u001b[39;49m\u001b[43mtimeit\u001b[49m\u001b[43m(\u001b[49m\u001b[38;5;28;43;01mlambda\u001b[39;49;00m\u001b[43m:\u001b[49m\u001b[43m \u001b[49m\u001b[38;5;28;43mlist\u001b[39;49m\u001b[43m(\u001b[49m\u001b[43mdask\u001b[49m\u001b[38;5;241;43m.\u001b[39;49m\u001b[43mcompute\u001b[49m\u001b[43m(\u001b[49m\u001b[38;5;241;43m*\u001b[39;49m\u001b[43mslowish_result\u001b[49m\u001b[43m)\u001b[49m\u001b[43m)\u001b[49m\u001b[43m,\u001b[49m\u001b[43m \u001b[49m\u001b[43mnumber\u001b[49m\u001b[38;5;241;43m=\u001b[39;49m\u001b[38;5;241;43m1\u001b[39;49m\u001b[43m)\u001b[49m\n\u001b[1;32m     16\u001b[0m \u001b[38;5;28mprint\u001b[39m(\u001b[38;5;124m\"\u001b[39m\u001b[38;5;124mIn sequence \u001b[39m\u001b[38;5;132;01m{}\u001b[39;00m\u001b[38;5;124m, in parallel \u001b[39m\u001b[38;5;132;01m{}\u001b[39;00m\u001b[38;5;124m\"\u001b[39m\u001b[38;5;241m.\u001b[39mformat(slow_time, fast_time))\n\u001b[1;32m     17\u001b[0m \u001b[38;5;66;03m#end::sleepy_task_hello_world[]\u001b[39;00m\n",
      "File \u001b[0;32m/opt/conda/lib/python3.8/timeit.py:233\u001b[0m, in \u001b[0;36mtimeit\u001b[0;34m(stmt, setup, timer, number, globals)\u001b[0m\n\u001b[1;32m    230\u001b[0m \u001b[38;5;28;01mdef\u001b[39;00m \u001b[38;5;21mtimeit\u001b[39m(stmt\u001b[38;5;241m=\u001b[39m\u001b[38;5;124m\"\u001b[39m\u001b[38;5;124mpass\u001b[39m\u001b[38;5;124m\"\u001b[39m, setup\u001b[38;5;241m=\u001b[39m\u001b[38;5;124m\"\u001b[39m\u001b[38;5;124mpass\u001b[39m\u001b[38;5;124m\"\u001b[39m, timer\u001b[38;5;241m=\u001b[39mdefault_timer,\n\u001b[1;32m    231\u001b[0m            number\u001b[38;5;241m=\u001b[39mdefault_number, \u001b[38;5;28mglobals\u001b[39m\u001b[38;5;241m=\u001b[39m\u001b[38;5;28;01mNone\u001b[39;00m):\n\u001b[1;32m    232\u001b[0m \u001b[38;5;250m    \u001b[39m\u001b[38;5;124;03m\"\"\"Convenience function to create Timer object and call timeit method.\"\"\"\u001b[39;00m\n\u001b[0;32m--> 233\u001b[0m     \u001b[38;5;28;01mreturn\u001b[39;00m \u001b[43mTimer\u001b[49m\u001b[43m(\u001b[49m\u001b[43mstmt\u001b[49m\u001b[43m,\u001b[49m\u001b[43m \u001b[49m\u001b[43msetup\u001b[49m\u001b[43m,\u001b[49m\u001b[43m \u001b[49m\u001b[43mtimer\u001b[49m\u001b[43m,\u001b[49m\u001b[43m \u001b[49m\u001b[38;5;28;43mglobals\u001b[39;49m\u001b[43m)\u001b[49m\u001b[38;5;241;43m.\u001b[39;49m\u001b[43mtimeit\u001b[49m\u001b[43m(\u001b[49m\u001b[43mnumber\u001b[49m\u001b[43m)\u001b[49m\n",
      "File \u001b[0;32m/opt/conda/lib/python3.8/timeit.py:177\u001b[0m, in \u001b[0;36mTimer.timeit\u001b[0;34m(self, number)\u001b[0m\n\u001b[1;32m    175\u001b[0m gc\u001b[38;5;241m.\u001b[39mdisable()\n\u001b[1;32m    176\u001b[0m \u001b[38;5;28;01mtry\u001b[39;00m:\n\u001b[0;32m--> 177\u001b[0m     timing \u001b[38;5;241m=\u001b[39m \u001b[38;5;28;43mself\u001b[39;49m\u001b[38;5;241;43m.\u001b[39;49m\u001b[43minner\u001b[49m\u001b[43m(\u001b[49m\u001b[43mit\u001b[49m\u001b[43m,\u001b[49m\u001b[43m \u001b[49m\u001b[38;5;28;43mself\u001b[39;49m\u001b[38;5;241;43m.\u001b[39;49m\u001b[43mtimer\u001b[49m\u001b[43m)\u001b[49m\n\u001b[1;32m    178\u001b[0m \u001b[38;5;28;01mfinally\u001b[39;00m:\n\u001b[1;32m    179\u001b[0m     \u001b[38;5;28;01mif\u001b[39;00m gcold:\n",
      "File \u001b[0;32m<timeit-src>:6\u001b[0m, in \u001b[0;36minner\u001b[0;34m(_it, _timer, _stmt)\u001b[0m\n",
      "Cell \u001b[0;32mIn[2], line 15\u001b[0m, in \u001b[0;36m<lambda>\u001b[0;34m()\u001b[0m\n\u001b[1;32m     12\u001b[0m slowish_result \u001b[38;5;241m=\u001b[39m \u001b[38;5;28mmap\u001b[39m(dask\u001b[38;5;241m.\u001b[39mdelayed(slow_task), things)\n\u001b[1;32m     14\u001b[0m slow_time \u001b[38;5;241m=\u001b[39m timeit\u001b[38;5;241m.\u001b[39mtimeit(\u001b[38;5;28;01mlambda\u001b[39;00m: \u001b[38;5;28mlist\u001b[39m(very_slow_result), number\u001b[38;5;241m=\u001b[39m\u001b[38;5;241m1\u001b[39m)\n\u001b[0;32m---> 15\u001b[0m fast_time \u001b[38;5;241m=\u001b[39m timeit\u001b[38;5;241m.\u001b[39mtimeit(\u001b[38;5;28;01mlambda\u001b[39;00m: \u001b[38;5;28mlist\u001b[39m(\u001b[43mdask\u001b[49m\u001b[38;5;241;43m.\u001b[39;49m\u001b[43mcompute\u001b[49m\u001b[43m(\u001b[49m\u001b[38;5;241;43m*\u001b[39;49m\u001b[43mslowish_result\u001b[49m\u001b[43m)\u001b[49m), number\u001b[38;5;241m=\u001b[39m\u001b[38;5;241m1\u001b[39m)\n\u001b[1;32m     16\u001b[0m \u001b[38;5;28mprint\u001b[39m(\u001b[38;5;124m\"\u001b[39m\u001b[38;5;124mIn sequence \u001b[39m\u001b[38;5;132;01m{}\u001b[39;00m\u001b[38;5;124m, in parallel \u001b[39m\u001b[38;5;132;01m{}\u001b[39;00m\u001b[38;5;124m\"\u001b[39m\u001b[38;5;241m.\u001b[39mformat(slow_time, fast_time))\n\u001b[1;32m     17\u001b[0m \u001b[38;5;66;03m#end::sleepy_task_hello_world[]\u001b[39;00m\n",
      "File \u001b[0;32m/opt/conda/lib/python3.8/site-packages/dask/base.py:599\u001b[0m, in \u001b[0;36mcompute\u001b[0;34m(traverse, optimize_graph, scheduler, get, *args, **kwargs)\u001b[0m\n\u001b[1;32m    596\u001b[0m     keys\u001b[38;5;241m.\u001b[39mappend(x\u001b[38;5;241m.\u001b[39m__dask_keys__())\n\u001b[1;32m    597\u001b[0m     postcomputes\u001b[38;5;241m.\u001b[39mappend(x\u001b[38;5;241m.\u001b[39m__dask_postcompute__())\n\u001b[0;32m--> 599\u001b[0m results \u001b[38;5;241m=\u001b[39m \u001b[43mschedule\u001b[49m\u001b[43m(\u001b[49m\u001b[43mdsk\u001b[49m\u001b[43m,\u001b[49m\u001b[43m \u001b[49m\u001b[43mkeys\u001b[49m\u001b[43m,\u001b[49m\u001b[43m \u001b[49m\u001b[38;5;241;43m*\u001b[39;49m\u001b[38;5;241;43m*\u001b[39;49m\u001b[43mkwargs\u001b[49m\u001b[43m)\u001b[49m\n\u001b[1;32m    600\u001b[0m \u001b[38;5;28;01mreturn\u001b[39;00m repack([f(r, \u001b[38;5;241m*\u001b[39ma) \u001b[38;5;28;01mfor\u001b[39;00m r, (f, a) \u001b[38;5;129;01min\u001b[39;00m \u001b[38;5;28mzip\u001b[39m(results, postcomputes)])\n",
      "File \u001b[0;32m~/.local/lib/python3.8/site-packages/distributed/client.py:3076\u001b[0m, in \u001b[0;36mClient.get\u001b[0;34m(self, dsk, keys, workers, allow_other_workers, resources, sync, asynchronous, direct, retries, priority, fifo_timeout, actors, **kwargs)\u001b[0m\n\u001b[1;32m   3003\u001b[0m \u001b[38;5;28;01mdef\u001b[39;00m \u001b[38;5;21mget\u001b[39m(\n\u001b[1;32m   3004\u001b[0m     \u001b[38;5;28mself\u001b[39m,\n\u001b[1;32m   3005\u001b[0m     dsk,\n\u001b[0;32m   (...)\u001b[0m\n\u001b[1;32m   3017\u001b[0m     \u001b[38;5;241m*\u001b[39m\u001b[38;5;241m*\u001b[39mkwargs,\n\u001b[1;32m   3018\u001b[0m ):\n\u001b[1;32m   3019\u001b[0m \u001b[38;5;250m    \u001b[39m\u001b[38;5;124;03m\"\"\"Compute dask graph\u001b[39;00m\n\u001b[1;32m   3020\u001b[0m \n\u001b[1;32m   3021\u001b[0m \u001b[38;5;124;03m    Parameters\u001b[39;00m\n\u001b[0;32m   (...)\u001b[0m\n\u001b[1;32m   3074\u001b[0m \u001b[38;5;124;03m    Client.compute : Compute asynchronous collections\u001b[39;00m\n\u001b[1;32m   3075\u001b[0m \u001b[38;5;124;03m    \"\"\"\u001b[39;00m\n\u001b[0;32m-> 3076\u001b[0m     futures \u001b[38;5;241m=\u001b[39m \u001b[38;5;28;43mself\u001b[39;49m\u001b[38;5;241;43m.\u001b[39;49m\u001b[43m_graph_to_futures\u001b[49m\u001b[43m(\u001b[49m\n\u001b[1;32m   3077\u001b[0m \u001b[43m        \u001b[49m\u001b[43mdsk\u001b[49m\u001b[43m,\u001b[49m\n\u001b[1;32m   3078\u001b[0m \u001b[43m        \u001b[49m\u001b[43mkeys\u001b[49m\u001b[38;5;241;43m=\u001b[39;49m\u001b[38;5;28;43mset\u001b[39;49m\u001b[43m(\u001b[49m\u001b[43mflatten\u001b[49m\u001b[43m(\u001b[49m\u001b[43m[\u001b[49m\u001b[43mkeys\u001b[49m\u001b[43m]\u001b[49m\u001b[43m)\u001b[49m\u001b[43m)\u001b[49m\u001b[43m,\u001b[49m\n\u001b[1;32m   3079\u001b[0m \u001b[43m        \u001b[49m\u001b[43mworkers\u001b[49m\u001b[38;5;241;43m=\u001b[39;49m\u001b[43mworkers\u001b[49m\u001b[43m,\u001b[49m\n\u001b[1;32m   3080\u001b[0m \u001b[43m        \u001b[49m\u001b[43mallow_other_workers\u001b[49m\u001b[38;5;241;43m=\u001b[39;49m\u001b[43mallow_other_workers\u001b[49m\u001b[43m,\u001b[49m\n\u001b[1;32m   3081\u001b[0m \u001b[43m        \u001b[49m\u001b[43mresources\u001b[49m\u001b[38;5;241;43m=\u001b[39;49m\u001b[43mresources\u001b[49m\u001b[43m,\u001b[49m\n\u001b[1;32m   3082\u001b[0m \u001b[43m        \u001b[49m\u001b[43mfifo_timeout\u001b[49m\u001b[38;5;241;43m=\u001b[39;49m\u001b[43mfifo_timeout\u001b[49m\u001b[43m,\u001b[49m\n\u001b[1;32m   3083\u001b[0m \u001b[43m        \u001b[49m\u001b[43mretries\u001b[49m\u001b[38;5;241;43m=\u001b[39;49m\u001b[43mretries\u001b[49m\u001b[43m,\u001b[49m\n\u001b[1;32m   3084\u001b[0m \u001b[43m        \u001b[49m\u001b[43muser_priority\u001b[49m\u001b[38;5;241;43m=\u001b[39;49m\u001b[43mpriority\u001b[49m\u001b[43m,\u001b[49m\n\u001b[1;32m   3085\u001b[0m \u001b[43m        \u001b[49m\u001b[43mactors\u001b[49m\u001b[38;5;241;43m=\u001b[39;49m\u001b[43mactors\u001b[49m\u001b[43m,\u001b[49m\n\u001b[1;32m   3086\u001b[0m \u001b[43m    \u001b[49m\u001b[43m)\u001b[49m\n\u001b[1;32m   3087\u001b[0m     packed \u001b[38;5;241m=\u001b[39m pack_data(keys, futures)\n\u001b[1;32m   3088\u001b[0m     \u001b[38;5;28;01mif\u001b[39;00m sync:\n",
      "File \u001b[0;32m~/.local/lib/python3.8/site-packages/distributed/client.py:2984\u001b[0m, in \u001b[0;36mClient._graph_to_futures\u001b[0;34m(self, dsk, keys, workers, allow_other_workers, priority, user_priority, resources, retries, fifo_timeout, actors)\u001b[0m\n\u001b[1;32m   2982\u001b[0m \u001b[38;5;66;03m# Pack the high level graph before sending it to the scheduler\u001b[39;00m\n\u001b[1;32m   2983\u001b[0m keyset \u001b[38;5;241m=\u001b[39m \u001b[38;5;28mset\u001b[39m(keys)\n\u001b[0;32m-> 2984\u001b[0m dsk \u001b[38;5;241m=\u001b[39m \u001b[43mdsk\u001b[49m\u001b[38;5;241;43m.\u001b[39;49m\u001b[43m__dask_distributed_pack__\u001b[49m(\u001b[38;5;28mself\u001b[39m, keyset, annotations)\n\u001b[1;32m   2986\u001b[0m \u001b[38;5;66;03m# Create futures before sending graph (helps avoid contention)\u001b[39;00m\n\u001b[1;32m   2987\u001b[0m futures \u001b[38;5;241m=\u001b[39m {key: Future(key, \u001b[38;5;28mself\u001b[39m, inform\u001b[38;5;241m=\u001b[39m\u001b[38;5;28;01mFalse\u001b[39;00m) \u001b[38;5;28;01mfor\u001b[39;00m key \u001b[38;5;129;01min\u001b[39;00m keyset}\n",
      "\u001b[0;31mAttributeError\u001b[0m: 'HighLevelGraph' object has no attribute '__dask_distributed_pack__'"
     ]
    }
   ],
   "source": [
    "#tag::sleepy_task_hello_world[]\n",
    "import timeit\n",
    "\n",
    "def slow_task(x):\n",
    "    import time\n",
    "    time.sleep(2) # Do something sciency/business\n",
    "    return x\n",
    "\n",
    "things = range(10)\n",
    "\n",
    "very_slow_result = map(slow_task, things)\n",
    "slowish_result = map(dask.delayed(slow_task), things)\n",
    "\n",
    "slow_time = timeit.timeit(lambda: list(very_slow_result), number=1)\n",
    "fast_time = timeit.timeit(lambda: list(dask.compute(*slowish_result)), number=1)\n",
    "print(\"In sequence {}, in parallel {}\".format(slow_time, fast_time))\n",
    "#end::sleepy_task_hello_world[]"
   ]
  },
  {
   "cell_type": "code",
   "execution_count": null,
   "id": "d7232e1f-bad4-4b87-9565-59e1c5038ffc",
   "metadata": {},
   "outputs": [],
   "source": [
    "d = dask.delayed(slow_task)(1)\n",
    "d"
   ]
  },
  {
   "cell_type": "code",
   "execution_count": null,
   "id": "ef2bf5a0-3c06-452e-b1e3-9b80f96e3b17",
   "metadata": {},
   "outputs": [],
   "source": []
  },
  {
   "cell_type": "code",
   "execution_count": null,
   "id": "521691d2-0e4f-425c-94a6-6b9bac4daede",
   "metadata": {},
   "outputs": [],
   "source": [
    "f = client.submit(d)\n",
    "f"
   ]
  },
  {
   "cell_type": "code",
   "execution_count": null,
   "id": "db81eb0e-4f7e-4ca6-a244-38267bdd7875",
   "metadata": {},
   "outputs": [],
   "source": [
    "client.compute(dask.delayed(slow_task)(1))"
   ]
  },
  {
   "cell_type": "code",
   "execution_count": null,
   "id": "dea537b2",
   "metadata": {},
   "outputs": [],
   "source": [
    "# Note: if we were on a cluster we'd have to do more magic to install it on all the nodes in the cluster.\n",
    "!pip install bs4"
   ]
  },
  {
   "cell_type": "code",
   "execution_count": null,
   "id": "928a5d79",
   "metadata": {},
   "outputs": [],
   "source": [
    "#tag::mini_crawl_task[]\n",
    "@dask.delayed\n",
    "def crawl(url, depth=0, maxdepth=1, maxlinks=4):\n",
    "    links = []\n",
    "    link_futures = []\n",
    "    try:\n",
    "        import requests\n",
    "        from bs4 import BeautifulSoup\n",
    "        f = requests.get(url)\n",
    "        links += [(url, f.text)]\n",
    "        if (depth > maxdepth):\n",
    "            return links # base case\n",
    "        soup = BeautifulSoup(f.text, 'html.parser')\n",
    "        c = 0\n",
    "        for link in soup.find_all('a'):\n",
    "            if \"href\" in link:\n",
    "                c = c + 1\n",
    "                link_futures += crawl(link[\"href\"], depth=(depth+1), maxdepth=maxdepth)\n",
    "                # Don't branch too much were still in local mode and the web is big\n",
    "                if c > maxlinks:\n",
    "                    break\n",
    "        for r in dask.compute(link_futures):\n",
    "            links += r\n",
    "        return links\n",
    "    except requests.exceptions.InvalidSchema:\n",
    "        return [] # Skip non-web links\n",
    "\n",
    "dask.compute(crawl(\"http://holdenkarau.com/\"))\n",
    "#end::mini_crawl_task[]"
   ]
  },
  {
   "cell_type": "code",
   "execution_count": null,
   "id": "d696eeb7",
   "metadata": {},
   "outputs": [],
   "source": [
    "#tag::make_bag_of_crawler[]\n",
    "import dask.bag as db\n",
    "githubs = [\"https://github.com/scalingpythonml/scalingpythonml\", \"https://github.com/dask/distributed\"]\n",
    "initial_bag = db.from_delayed(map(crawl, githubs))\n",
    "#end::make_bag_of_crawler[]"
   ]
  },
  {
   "cell_type": "code",
   "execution_count": null,
   "id": "7125dfb0",
   "metadata": {},
   "outputs": [],
   "source": [
    "#tag::make_a_bag_of_words[]\n",
    "words_bag = initial_bag.map(lambda url_contents: url_contents[1].split(\" \")).flatten()\n",
    "#end::make_a_bag_of_words[]"
   ]
  },
  {
   "cell_type": "code",
   "execution_count": null,
   "id": "877ae294",
   "metadata": {},
   "outputs": [],
   "source": [
    "#tag::wc_freq[]\n",
    "dask.compute(words_bag.frequencies())\n",
    "#end::wc_freq[]"
   ]
  },
  {
   "cell_type": "code",
   "execution_count": null,
   "id": "99380f18",
   "metadata": {},
   "outputs": [],
   "source": [
    "#tag::wc_func[]\n",
    "def make_word_tuple(w):\n",
    "    return (w, 1)\n",
    "\n",
    "def get_word(word_count):\n",
    "    return word_count[0]\n",
    "\n",
    "def sum_word_counts(wc1, wc2):\n",
    "    return (wc1[0], wc1[1] + wc2[1])\n",
    "\n",
    "word_count = words_bag.map(make_word_tuple).foldby(get_word, sum_word_counts)\n",
    "#end::wc_func[]"
   ]
  },
  {
   "cell_type": "code",
   "execution_count": null,
   "id": "9cc206c9",
   "metadata": {},
   "outputs": [],
   "source": [
    "dask.compute(word_count)"
   ]
  },
  {
   "cell_type": "code",
   "execution_count": null,
   "id": "27117b1e",
   "metadata": {},
   "outputs": [],
   "source": [
    "#tag::wc_dataframe\n",
    "import dask.dataframe as dd\n",
    "\n",
    "@dask.delayed\n",
    "def crawl_to_df(url, depth=0, maxdepth=1, maxlinks=4):\n",
    "    import pandas as pd\n",
    "    crawled = crawl(url, depth=depth, maxdepth=maxdepth, maxlinks=maxlinks)\n",
    "    return pd.DataFrame(crawled.compute(), columns=[\"url\", \"text\"]).set_index(\"url\")\n",
    "\n",
    "delayed_dfs = map(crawl_to_df, githubs)\n",
    "initial_df = dd.from_delayed(delayed_dfs)\n",
    "wc_df = initial_df.text.str.split().explode().value_counts()\n",
    "\n",
    "dask.compute(wc_df)\n",
    "#end::wc_dataframe"
   ]
  },
  {
   "cell_type": "code",
   "execution_count": null,
   "id": "d58bbf0f-6f9a-4942-91c5-7a48fcecc4ee",
   "metadata": {},
   "outputs": [],
   "source": [
    "#tag::dask_array[]\n",
    "import dask.array as da\n",
    "distributed_array = da.from_array(list(range(0, 1000)))\n",
    "avg = dask.compute(da.average(distributed_array))\n",
    "#end::dask_array[]\n",
    "avg"
   ]
  },
  {
   "cell_type": "code",
   "execution_count": null,
   "id": "c7fa1dae-aa12-43b5-93cc-41d3dadc2473",
   "metadata": {},
   "outputs": [],
   "source": [
    "na = distributed_array.persist()\n",
    "na"
   ]
  },
  {
   "cell_type": "code",
   "execution_count": null,
   "id": "1e7e1e59",
   "metadata": {},
   "outputs": [],
   "source": [
    "dir(na)"
   ]
  },
  {
   "cell_type": "code",
   "execution_count": null,
   "id": "d239bb20",
   "metadata": {},
   "outputs": [],
   "source": [
    "na = None"
   ]
  },
  {
   "cell_type": "code",
   "execution_count": null,
   "id": "ebcb6456",
   "metadata": {},
   "outputs": [],
   "source": [
    "#tag::cache[]\n",
    "from dask.cache import Cache\n",
    "\n",
    "c = Cache(1e9) # 1GB cache\n",
    "# A local cache for the part of our code where we need a cache\n",
    "with c:\n",
    "    distributed_array.compute()\n",
    "    \n",
    "# Or global for any calls we make\n",
    "c.register()\n",
    "#end::cache[]"
   ]
  },
  {
   "cell_type": "code",
   "execution_count": null,
   "id": "a28fb583",
   "metadata": {},
   "outputs": [],
   "source": []
  },
  {
   "cell_type": "code",
   "execution_count": null,
   "id": "5fb16717",
   "metadata": {},
   "outputs": [],
   "source": []
  }
 ],
 "metadata": {
  "kernelspec": {
   "display_name": "Python 3 (ipykernel)",
   "language": "python",
   "name": "python3"
  },
  "language_info": {
   "codemirror_mode": {
    "name": "ipython",
    "version": 3
   },
   "file_extension": ".py",
   "mimetype": "text/x-python",
   "name": "python",
   "nbconvert_exporter": "python",
   "pygments_lexer": "ipython3",
   "version": "3.8.15"
  }
 },
 "nbformat": 4,
 "nbformat_minor": 5
}
