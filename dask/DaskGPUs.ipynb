{
 "cells": [
  {
   "cell_type": "code",
   "execution_count": null,
   "id": "7f50d60c",
   "metadata": {},
   "outputs": [],
   "source": [
    "# Dask local GPU\n",
    "import dask"
   ]
  },
  {
   "cell_type": "code",
   "execution_count": null,
   "id": "c1efa04e",
   "metadata": {},
   "outputs": [],
   "source": [
    "#tag::dask_local_gpu[]\n",
    "from dask_cuda import LocalCUDACluster\n",
    "from dask.distributed import Client\n",
    "#NOTE: The resources= flag is important, by default the LocalCUDACluster *does not* label any resources which can make\n",
    "# porting your code to a cluster where some workers have GPUs and some not painful.\n",
    "cluster = LocalCUDACluster(resources={\"GPU\": 1})\n",
    "client = Client(cluster)\n",
    "#end::dask_local_gpu[]"
   ]
  },
  {
   "cell_type": "code",
   "execution_count": null,
   "id": "e5ba7615-e865-442a-9233-f3476d9196c0",
   "metadata": {},
   "outputs": [],
   "source": [
    "cluster"
   ]
  },
  {
   "cell_type": "code",
   "execution_count": null,
   "id": "35641ad3-393b-4597-a9ba-4db5b3715a6f",
   "metadata": {},
   "outputs": [],
   "source": [
    "def how_many_gpus(x):\n",
    "    import torch\n",
    "    return torch.cuda.device_count(); "
   ]
  },
  {
   "cell_type": "code",
   "execution_count": null,
   "id": "422a7dac-c612-4cd0-978d-a3f86a7edd40",
   "metadata": {},
   "outputs": [],
   "source": [
    "#tag::ex_submit_gpu[]\n",
    "future = client.submit(how_many_gpus, 1, resources={'GPU': 1})\n",
    "#end::ex_submit_gpu[]"
   ]
  },
  {
   "cell_type": "code",
   "execution_count": null,
   "id": "a5cd35cd-bb3b-4fdb-ab6f-8a97864e4bca",
   "metadata": {},
   "outputs": [],
   "source": [
    "client.gather(future)"
   ]
  },
  {
   "cell_type": "code",
   "execution_count": null,
   "id": "303c7e45-b5a6-4c40-800e-b8bfa02f1380",
   "metadata": {},
   "outputs": [],
   "source": [
    "#tag::ex_annotate_gpu[]\n",
    "with dask.annotate(resources={'GPU': 1}):\n",
    "    future = client.submit(how_many_gpus, 1)\n",
    "#end::ex_annotate_gpu[]"
   ]
  },
  {
   "cell_type": "code",
   "execution_count": null,
   "id": "f6e14e62-1c97-4650-9b95-9d9e479534d4",
   "metadata": {},
   "outputs": [],
   "source": []
  }
 ],
 "metadata": {
  "kernelspec": {
   "display_name": "Python 3 (ipykernel)",
   "language": "python",
   "name": "python3"
  },
  "language_info": {
   "codemirror_mode": {
    "name": "ipython",
    "version": 3
   },
   "file_extension": ".py",
   "mimetype": "text/x-python",
   "name": "python",
   "nbconvert_exporter": "python",
   "pygments_lexer": "ipython3",
   "version": "3.8.6"
  }
 },
 "nbformat": 4,
 "nbformat_minor": 5
}
